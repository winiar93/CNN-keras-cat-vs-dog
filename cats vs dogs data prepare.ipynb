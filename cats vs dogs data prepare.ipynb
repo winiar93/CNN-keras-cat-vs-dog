{
 "cells": [
  {
   "cell_type": "code",
   "execution_count": 3,
   "metadata": {},
   "outputs": [],
   "source": [
    "import numpy as np\n",
    "import cv2\n",
    "import os\n",
    "import random\n",
    "import matplotlib.pyplot as plt\n",
    "import pickle\n"
   ]
  },
  {
   "cell_type": "code",
   "execution_count": 4,
   "metadata": {},
   "outputs": [],
   "source": [
    "DIRECTORY= r'D:\\MachineLearning\\sieci neuronowe\\PetImages'"
   ]
  },
  {
   "cell_type": "code",
   "execution_count": 5,
   "metadata": {},
   "outputs": [],
   "source": [
    "CATEGORIES = ['cat','dog']"
   ]
  },
  {
   "cell_type": "code",
   "execution_count": 25,
   "metadata": {},
   "outputs": [],
   "source": [
    "IMG_SIZE= 100\n",
    "data=[]\n",
    "for category in CATEGORIES:\n",
    "    path = os.path.join(DIRECTORY, category)\n",
    "    for img in os.listdir(path):\n",
    "        try:\n",
    "            img_path = os.path.join(path, img)\n",
    "            label = CATEGORIES.index(category)\n",
    "            arr = cv2.imread(img_path, cv2.IMREAD_GRAYSCALE)\n",
    "            new_arr = cv2.resize(arr, (IMG_SIZE,IMG_SIZE),cv2.INTER_AREA)\n",
    "            data.append([new_arr, label])\n",
    "        except Exception as e:\n",
    "                pass\n",
    "        "
   ]
  },
  {
   "cell_type": "code",
   "execution_count": 27,
   "metadata": {},
   "outputs": [
    {
     "data": {
      "text/plain": [
       "[[array([[168, 173, 178, ..., 211, 208, 204],\n",
       "         [168, 173, 178, ..., 213, 209, 206],\n",
       "         [169, 174, 177, ..., 215, 211, 208],\n",
       "         ...,\n",
       "         [128, 129, 131, ...,   3,   3,   2],\n",
       "         [126, 128, 130, ...,   3,   3,   3],\n",
       "         [123, 125, 129, ...,   1,   1,   1]], dtype=uint8),\n",
       "  0],\n",
       " [array([[ 42,  43,  42, ...,  98, 181, 196],\n",
       "         [ 43,  40,  41, ..., 102, 180, 196],\n",
       "         [ 41,  35,  38, ...,  97, 170, 193],\n",
       "         ...,\n",
       "         [ 21,  19,  19, ...,  83,  74,  46],\n",
       "         [ 25,  18,  21, ...,  52,  37,  27],\n",
       "         [ 31,  21,  25, ...,  92,  20,  27]], dtype=uint8),\n",
       "  0],\n",
       " [array([[ 39,  27,  43, ..., 153, 153, 149],\n",
       "         [ 42,  52,  56, ..., 153, 154, 151],\n",
       "         [ 52,  56,  58, ..., 154, 157, 153],\n",
       "         ...,\n",
       "         [162, 169, 167, ..., 169, 173, 155],\n",
       "         [164, 160, 149, ..., 169, 173, 153],\n",
       "         [136, 129, 134, ..., 169, 172, 152]], dtype=uint8),\n",
       "  0]]"
      ]
     },
     "execution_count": 27,
     "metadata": {},
     "output_type": "execute_result"
    }
   ],
   "source": [
    "data[:3]"
   ]
  },
  {
   "cell_type": "code",
   "execution_count": 28,
   "metadata": {},
   "outputs": [
    {
     "data": {
      "text/plain": [
       "24946"
      ]
     },
     "execution_count": 28,
     "metadata": {},
     "output_type": "execute_result"
    }
   ],
   "source": [
    "len(data)"
   ]
  },
  {
   "cell_type": "code",
   "execution_count": 29,
   "metadata": {},
   "outputs": [],
   "source": [
    "random.shuffle(data)"
   ]
  },
  {
   "cell_type": "code",
   "execution_count": 30,
   "metadata": {},
   "outputs": [],
   "source": [
    "X=[]\n",
    "y=[]\n",
    "\n",
    "for features, labels in data:\n",
    "    X.append(features)\n",
    "    y.append(labels)"
   ]
  },
  {
   "cell_type": "code",
   "execution_count": 31,
   "metadata": {},
   "outputs": [],
   "source": [
    "X = np.array(X)\n",
    "y = np.array(y)"
   ]
  },
  {
   "cell_type": "code",
   "execution_count": 32,
   "metadata": {
    "scrolled": true
   },
   "outputs": [
    {
     "data": {
      "text/plain": [
       "24946"
      ]
     },
     "execution_count": 32,
     "metadata": {},
     "output_type": "execute_result"
    }
   ],
   "source": [
    "len(X)"
   ]
  },
  {
   "cell_type": "code",
   "execution_count": 33,
   "metadata": {},
   "outputs": [
    {
     "data": {
      "text/plain": [
       "24946"
      ]
     },
     "execution_count": 33,
     "metadata": {},
     "output_type": "execute_result"
    }
   ],
   "source": [
    "len(y)"
   ]
  },
  {
   "cell_type": "code",
   "execution_count": 35,
   "metadata": {},
   "outputs": [],
   "source": [
    "pickle.dump(X,open('X_data.pkl','wb'))\n",
    "pickle.dump(y,open('y_data.pkl','wb'))"
   ]
  },
  {
   "cell_type": "code",
   "execution_count": null,
   "metadata": {},
   "outputs": [],
   "source": []
  }
 ],
 "metadata": {
  "kernelspec": {
   "display_name": "Python 3",
   "language": "python",
   "name": "python3"
  },
  "language_info": {
   "codemirror_mode": {
    "name": "ipython",
    "version": 3
   },
   "file_extension": ".py",
   "mimetype": "text/x-python",
   "name": "python",
   "nbconvert_exporter": "python",
   "pygments_lexer": "ipython3",
   "version": "3.8.5"
  }
 },
 "nbformat": 4,
 "nbformat_minor": 4
}
